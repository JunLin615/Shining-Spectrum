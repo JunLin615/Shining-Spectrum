{
 "cells": [
  {
   "cell_type": "code",
   "execution_count": null,
   "metadata": {},
   "outputs": [],
   "source": []
  },
  {
   "cell_type": "code",
   "execution_count": null,
   "metadata": {},
   "outputs": [],
   "source": [
    "# 从shiningspectrum中导入pretreatment\n",
    "from shiningspectrum import pretreatment\n",
    "#从shiningspectrum中导入database\n",
    "from shiningspectrum import database\n",
    "#导入peak_processing\n",
    "from shiningspectrum import peak_processing\n",
    "import os\n",
    "import matplotlib.pyplot as plt\n",
    "import numpy as np\n",
    "\n",
    "import math\n",
    "import pickle\n",
    "#import matplotlib.pyplot as plt\n",
    "#import numpy as np\n",
    "#from ramannoodles import spectrafit\n",
    "from ramannoodles import shoyu\n",
    "from ramannoodles import peakidentify"
   ]
  },
  {
   "cell_type": "code",
   "execution_count": null,
   "metadata": {},
   "outputs": [],
   "source": [
    "data_path=os.getcwd()+\"\\\\Prepare incoming data\"\n",
    "\n",
    "file_data1 = database.read_file(data_path, \"氯仿.txt\")#67-66-3\n",
    "file_data2 = database.read_file(data_path, \"甲苯.txt\")#108-88-3\n",
    "\n",
    "list_spectrum1 = database.data_extraction(file_data1)\n",
    "list_spectrum2 = database.data_extraction(file_data2)\n",
    "\n",
    "list_spectrum_compound = [list_spectrum1[0],list(np.array(list_spectrum1[1])+np.array(list_spectrum2[1]))]\n",
    "\n",
    "plt.figure(figsize=(10,10))\n",
    "plt.plot(list_spectrum_compound[0],list_spectrum_compound[1],\"k-\",label=\"list_spectrum_compound\")\n",
    "plt.plot(list_spectrum1[0],list_spectrum1[1],\"r-\",label=\"list_spectrum1\")\n",
    "\n",
    "plt.plot(list_spectrum2[0],list_spectrum2[1],\"b-\",label=\"list_spectrum2\")\n",
    "plt.legend()"
   ]
  },
  {
   "cell_type": "code",
   "execution_count": null,
   "metadata": {},
   "outputs": [],
   "source": [
    "def shining2noodles(all_spectrum):\n",
    "    list_of_compounds = []\n",
    "    for key in list(all_spectrum.keys()):\n",
    "        x = np.array(all_spectrum[key][0])\n",
    "        y = np.array(all_spectrum[key][1])\n",
    "        \n",
    "        list_of_compounds.append(({\"title\":key,\"x\":x,\"y\":y}))\n",
    "        \n",
    "    return list_of_compounds"
   ]
  },
  {
   "cell_type": "code",
   "execution_count": null,
   "metadata": {},
   "outputs": [],
   "source": [
    "all_spectrum = database.read_all(\"raman_database\")\n",
    "\n",
    "list_of_compounds = shining2noodles(all_spectrum)\n",
    "\n",
    "#unknown_x, unknown_y = shoyu.combine_spectra(list_of_compounds[0], list_of_compounds[3], plot = True)#原版\n",
    "unknown_x, unknown_y = shiningnoodles.combine_spectra(list_of_compounds[0], list_of_compounds[3])#shining重构"
   ]
  },
  {
   "cell_type": "code",
   "execution_count": null,
   "metadata": {},
   "outputs": [],
   "source": [
    "#y_data = subtract_baseline(unknown_y)#原版\n",
    "#x_data = unknown_x#原版\n",
    "x_data, y_data, y_base = pretreatment.autbaseline(unknown_x, unknown_y, deg=4, max_it=200,tol=None)#shining重构\n",
    "\n",
    "unknow_compound = {\"title\":\"unkonw\",\"x\":x_data,\"y\":y_data}\n",
    "\n",
    "peaks = peak_detect(x_data, y_data,prominence=y_data.mean())[0]\n",
    "mod, pars = set_params(peaks)"
   ]
  },
  {
   "cell_type": "code",
   "execution_count": null,
   "metadata": {},
   "outputs": [],
   "source": [
    "out = model_fit(x_data, y_data, mod, pars)#慢"
   ]
  },
  {
   "cell_type": "code",
   "execution_count": null,
   "metadata": {},
   "outputs": [],
   "source": [
    "fit_peak_data = export_fit_data(out)#快\n",
    "peak_centers = []\n",
    "peak_sigma = []\n",
    "peak_ampl = []\n",
    "# peak_height = []\n",
    "print(\"开始循环\")\n",
    "for i, _ in enumerate(fit_peak_data):\n",
    "    # peak_fractions.append(fit_peak_data[i][0])\n",
    "    # if we ever need lorentzian fraction we can add it\n",
    "    # right now it may break other functions \n",
    "    peak_sigma.append(fit_peak_data[i][1])\n",
    "    peak_centers.append(fit_peak_data[i][2])\n",
    "    peak_ampl.append(fit_peak_data[i][3])\n",
    "    # peak_height.append(fit_peak_data[i][5])\n",
    "xmin = min(x_data)\n",
    "xmax = max(x_data)"
   ]
  },
  {
   "cell_type": "code",
   "execution_count": null,
   "metadata": {},
   "outputs": [],
   "source": [
    "unknown_peaks=peak_centers\n",
    "\n",
    "known_compound_list = list_of_compounds\n",
    "known_compound_peaks = []\n",
    "assignment_matrix = []\n",
    "precision = 0.03\n",
    "for i, _ in enumerate(known_compound_list):\n",
    "    known_compound_peaks.append(\n",
    "        compound_report(known_compound_list[i])[0])\n",
    "    print(\"The peaks that we found for \"\n",
    "          + str(known_compound_list[i]['title']) + \" are: \")\n",
    "    print(known_compound_peaks[i])\n",
    "    \n",
    "    assignment_matrix.append(compare_unknown_to_known(unknown_peaks,\n",
    "                                                      known_compound_peaks[i],\n",
    "                                                      precision))\n",
    "\n"
   ]
  },
  {
   "cell_type": "code",
   "execution_count": null,
   "metadata": {},
   "outputs": [],
   "source": [
    "#Ok, so that generates a full association matrix that contains everything\n",
    "#we need to assign peaks.\n",
    "#Now, let's go through and actually assign text to peaks.\n",
    "#print(\"spectrafit.data_report成功\")\n",
    "\n",
    "unknown_peak_assignments = peak_position_comparisons(unknown_peaks,\n",
    "                                                     known_compound_peaks,\n",
    "                                                     known_compound_list,\n",
    "                                                     assignment_matrix)\n",
    "print(unknown_peak_assignments)\n",
    "\n",
    "percentages = percentage_of_peaks_found(known_compound_peaks,\n",
    "                                        assignment_matrix,\n",
    "                                        known_compound_list)\n",
    "\n"
   ]
  },
  {
   "cell_type": "code",
   "execution_count": null,
   "metadata": {},
   "outputs": [],
   "source": [
    "plot=True\n",
    "if plot:\n",
    "    plotting_peak_assignments(unknown_x, unknown_y, unknown_peaks,\n",
    "                              unknown_peak_assignments,percentages)\n",
    "\n",
    "#percentages = percentage_of_peaks_found(known_compound_peaks,\n",
    "#                                        assignment_matrix,\n",
    "#                                        known_compound_list)\n",
    "print(percentages)"
   ]
  }
 ],
 "metadata": {
  "kernelspec": {
   "display_name": "Python 3",
   "language": "python",
   "name": "python3"
  },
  "language_info": {
   "codemirror_mode": {
    "name": "ipython",
    "version": 3
   },
   "file_extension": ".py",
   "mimetype": "text/x-python",
   "name": "python",
   "nbconvert_exporter": "python",
   "pygments_lexer": "ipython3",
   "version": "3.7.6"
  }
 },
 "nbformat": 4,
 "nbformat_minor": 4
}
