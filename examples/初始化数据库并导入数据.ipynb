{
 "cells": [
  {
   "cell_type": "markdown",
   "metadata": {},
   "source": [
    "English version please read\"Initialize the database and import the data.ipynb\"\n",
    "本文件用于简单演示如何使用shiningspectrum来创建数据库并导入数据。"
   ]
  },
  {
   "cell_type": "code",
   "execution_count": 1,
   "metadata": {},
   "outputs": [],
   "source": [
    "#从shiningspectrum中导入database\n",
    "from shiningspectrum import database\n",
    "import os"
   ]
  },
  {
   "cell_type": "markdown",
   "metadata": {},
   "source": [
    "如果是首次运行，initialization()函数将会在你的巡行路径下创建一个database_folder文件夹，用于存放所有数据。\n",
    "\n",
    "如果database_folder文件夹存在，会在database_folder文件夹下根据database_name的值创建一个文件夹专门用于存放指定数据。且会在该文件夹下创建一个database_index_file.p文件作为索引。\n",
    "\n",
    "您如果想存储不同种类的光谱，请使用initialization()函数来创建对应的数据存储路径和索引。"
   ]
  },
  {
   "cell_type": "code",
   "execution_count": 4,
   "metadata": {},
   "outputs": [
    {
     "name": "stdout",
     "output_type": "stream",
     "text": [
      "创建路径成功。Path created successfully.\n",
      "索引文件创建成功。Index file created successfully.\n"
     ]
    }
   ],
   "source": [
    "database.initialization(database_name='raman_database')"
   ]
  },
  {
   "cell_type": "markdown",
   "metadata": {},
   "source": [
    "import_data()函数会从您指定的data_path路径读入数据，并存储进数据库，请务必保证数据格式正确。example文件夹下的Prepare incoming data我们放了几份展示数据，您可以参考这些数据的格式，主要由一个表头和结尾构成，此外，数据以制表符分割，以换行符分行。"
   ]
  },
  {
   "cell_type": "code",
   "execution_count": 5,
   "metadata": {},
   "outputs": [
    {
     "name": "stdout",
     "output_type": "stream",
     "text": [
      "['乙醇.txt', '氯仿.txt', '氯苯.txt', '甲苯.txt', '苯酚.txt']\n",
      "数据格式可以参考“Prepare incoming data”文件夹.The data format can refer to the \"Prepare incoming data\" folder\n",
      "乙醇.txtsuccessfully entered\n",
      "氯仿.txtsuccessfully entered\n",
      "氯苯.txtsuccessfully entered\n",
      "甲苯.txtsuccessfully entered\n",
      "苯酚.txtsuccessfully entered\n"
     ]
    }
   ],
   "source": [
    "data_path=os.getcwd()+\"\\\\Prepare incoming data\"\n",
    "\n",
    "database_dictionary = database.import_data(data_path, database_name='raman_database')"
   ]
  },
  {
   "cell_type": "code",
   "execution_count": 6,
   "metadata": {},
   "outputs": [
    {
     "name": "stdout",
     "output_type": "stream",
     "text": [
      "已有数据库:\n",
      "Existing database：\n",
      "['raman_database']\n"
     ]
    }
   ],
   "source": [
    "#查看已有数据库\n",
    "database.existing_database()"
   ]
  },
  {
   "cell_type": "code",
   "execution_count": 7,
   "metadata": {},
   "outputs": [
    {
     "name": "stdout",
     "output_type": "stream",
     "text": [
      "数据库中含有以下物质:\n",
      "The database contains the following substances:\n",
      "['64-17-5', '67-66-3', '108-90-7', '108-88-3', '108-95-2']\n"
     ]
    }
   ],
   "source": [
    "#查看指定数据库信息\n",
    "#query_criteria参数可以定义查看方式，'Indexes'是查看数据库收录了什么物质，'survey'是查看收录物质及数据概况\n",
    "database.view_database('raman_database', query_criteria='Indexes')"
   ]
  },
  {
   "cell_type": "code",
   "execution_count": null,
   "metadata": {},
   "outputs": [],
   "source": []
  }
 ],
 "metadata": {
  "kernelspec": {
   "display_name": "Python 3",
   "language": "python",
   "name": "python3"
  },
  "language_info": {
   "codemirror_mode": {
    "name": "ipython",
    "version": 3
   },
   "file_extension": ".py",
   "mimetype": "text/x-python",
   "name": "python",
   "nbconvert_exporter": "python",
   "pygments_lexer": "ipython3",
   "version": "3.7.6"
  }
 },
 "nbformat": 4,
 "nbformat_minor": 4
}
